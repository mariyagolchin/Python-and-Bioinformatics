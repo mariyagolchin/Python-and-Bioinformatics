{
  "nbformat": 4,
  "nbformat_minor": 0,
  "metadata": {
    "colab": {
      "name": "Bioinformatics Examples1.ipynb",
      "provenance": [],
      "authorship_tag": "ABX9TyP3IfQQ9kKok7BDVg1cI9AU",
      "include_colab_link": true
    },
    "kernelspec": {
      "name": "python3",
      "display_name": "Python 3"
    }
  },
  "cells": [
    {
      "cell_type": "markdown",
      "metadata": {
        "id": "view-in-github",
        "colab_type": "text"
      },
      "source": [
        "<a href=\"https://colab.research.google.com/github/mariyagolchin/Python-and-Bioinformatics/blob/main/Bioinformatics_Examples1.ipynb\" target=\"_parent\"><img src=\"https://colab.research.google.com/assets/colab-badge.svg\" alt=\"Open In Colab\"/></a>"
      ]
    },
    {
      "cell_type": "markdown",
      "metadata": {
        "id": "ODkp-tREuMRc"
      },
      "source": [
        "\n",
        "**source:**  http://hplgit.github.io/bioinf-py/doc/pub/bioinf-py.html\n",
        "\n",
        "\n",
        "# Counting Letters in DNA Strings\n",
        "Given some string dna containing the letters *A, C, G, or T*, representing the bases that make up DNA, we ask the question: \n",
        "\n",
        "**how many times does a certain base occur in the DNA string?** \n",
        "\n",
        "For example, if dna is *ATGGCATTA* and we ask how many times the base A occur in this string, the answer is 3.\n",
        "\n",
        "A general Python implementation answering this problem can be done in many ways. Several possible solutions are presented below.\n",
        "\n"
      ]
    },
    {
      "cell_type": "markdown",
      "metadata": {
        "id": "bARZiq7Ou8qa"
      },
      "source": [
        "# List Iteration\n",
        "The most straightforward solution is to loop over the letters in the string, test if the current letter equals the desired one, and if so, increase a counter. Looping over the letters is obvious if the letters are stored in a list. This is easily done by converting a string to a list:"
      ]
    },
    {
      "cell_type": "code",
      "metadata": {
        "id": "Rc2Bz_jguD8p",
        "outputId": "7b019071-ce60-430c-9c02-41984f8a6afe",
        "colab": {
          "base_uri": "https://localhost:8080/"
        }
      },
      "source": [
        "list('ACGT')"
      ],
      "execution_count": 1,
      "outputs": [
        {
          "output_type": "execute_result",
          "data": {
            "text/plain": [
              "['A', 'C', 'G', 'T']"
            ]
          },
          "metadata": {
            "tags": []
          },
          "execution_count": 1
        }
      ]
    },
    {
      "cell_type": "code",
      "metadata": {
        "id": "XNuXwOVkvj1v",
        "outputId": "4c820ce3-b97f-4251-c804-0f5d04698d43",
        "colab": {
          "base_uri": "https://localhost:8080/"
        }
      },
      "source": [
        "# Function for find occurence of a base in dna list\n",
        "\n",
        "def find_occurrence(dna,base):\n",
        "   count=0\n",
        "   dna=list(dna)  # convert string to list of letters\n",
        "   for item in dna:\n",
        "    #  print(\"item=>\", item)\n",
        "     if item == base:\n",
        "       count +=1\n",
        "   return count\n",
        "\n",
        "dna='ACGTTACCTCGTA'\n",
        "base='G'\n",
        "find_occurrence(dna,base)"
      ],
      "execution_count": 8,
      "outputs": [
        {
          "output_type": "execute_result",
          "data": {
            "text/plain": [
              "2"
            ]
          },
          "metadata": {
            "tags": []
          },
          "execution_count": 8
        }
      ]
    },
    {
      "cell_type": "markdown",
      "metadata": {
        "id": "Ygi0et_Ux85s"
      },
      "source": [
        "# String Iteration\n",
        "Python allows us to iterate directly over a string without converting it to a list:"
      ]
    },
    {
      "cell_type": "code",
      "metadata": {
        "id": "4MmYCwnmx7eA",
        "outputId": "31cc90b8-5638-4b98-99d4-aeedc87733a7",
        "colab": {
          "base_uri": "https://localhost:8080/"
        }
      },
      "source": [
        "for c in 'ATGC':\n",
        "  print(c) "
      ],
      "execution_count": 9,
      "outputs": [
        {
          "output_type": "stream",
          "text": [
            "A\n",
            "T\n",
            "G\n",
            "C\n"
          ],
          "name": "stdout"
        }
      ]
    },
    {
      "cell_type": "code",
      "metadata": {
        "id": "doubjlY0zdr7",
        "outputId": "b42179dd-a126-4fff-8e07-dce708248780",
        "colab": {
          "base_uri": "https://localhost:8080/"
        }
      },
      "source": [
        "# Function for find occurrence of base in string of dna\n",
        "\n",
        "def find_occurrence_str(dna,base):\n",
        "   count=0\n",
        "   for item in dna:\n",
        "    #  print(\"item=>\", item)\n",
        "     if item == base:\n",
        "       count +=1\n",
        "   return count\n",
        "\n",
        "dna='ACCGCTA'\n",
        "base='C'\n",
        "find = find_occurrence_str(dna,base)\n",
        "\n",
        "# printf-style formatting\n",
        "print('%s appears %d times in %s' % (base, find, dna))\n",
        "\n",
        "# or (new) format string syntax\n",
        "print ('{base} appears {find} times in {dna}'.format(base=base, find=find, dna=dna))"
      ],
      "execution_count": 23,
      "outputs": [
        {
          "output_type": "stream",
          "text": [
            "C appears 3 times in ACCGCTA\n",
            "C appears 3 times in ACCGCTA\n"
          ],
          "name": "stdout"
        }
      ]
    },
    {
      "cell_type": "markdown",
      "metadata": {
        "id": "iLeHkI5p4-Hr"
      },
      "source": [
        "# Index Iteration\n",
        "loops with an integer counter running over all indices in a string or array"
      ]
    },
    {
      "cell_type": "code",
      "metadata": {
        "id": "zZ2Afuy15Ysd",
        "outputId": "aceb9006-a9bc-41a6-a2d9-08322e811c5b",
        "colab": {
          "base_uri": "https://localhost:8080/"
        }
      },
      "source": [
        "def find_occurrence_str(dna,base):\n",
        "   i=0\n",
        "   for j in range(len(dna)):\n",
        "     if dna[j] == base:\n",
        "       print(dna[j])\n",
        "       i +=1\n",
        "   return i\n",
        "\n",
        "dna='ACCGCTA'\n",
        "base='C'\n",
        "find = find_occurrence_str(dna,base)\n",
        "print(find)"
      ],
      "execution_count": 22,
      "outputs": [
        {
          "output_type": "stream",
          "text": [
            "C\n",
            "C\n",
            "C\n",
            "3\n"
          ],
          "name": "stdout"
        }
      ]
    },
    {
      "cell_type": "markdown",
      "metadata": {
        "id": "j3VeKDCA-VGy"
      },
      "source": [
        "# While Loops\n",
        "The while loop equivalent to the last function reads"
      ]
    },
    {
      "cell_type": "code",
      "metadata": {
        "id": "rnWmSyv3-Z8-",
        "outputId": "3161ceb2-964f-41f1-e14e-0030774f6190",
        "colab": {
          "base_uri": "https://localhost:8080/"
        }
      },
      "source": [
        "def find_occurrence_w(dna,base):\n",
        "   i=0\n",
        "   j=0\n",
        "   while j < len(dna):\n",
        "     if dna[j] == base:\n",
        "        print(dna[j])\n",
        "        i += 1\n",
        "     j = j+1\n",
        "   return i\n",
        "\n",
        "dna='ACCGCAATA'\n",
        "base='A'\n",
        "find = find_occurrence_w(dna,base)\n",
        "print(find)"
      ],
      "execution_count": 30,
      "outputs": [
        {
          "output_type": "stream",
          "text": [
            "A\n",
            "A\n",
            "A\n",
            "A\n",
            "4\n"
          ],
          "name": "stdout"
        }
      ]
    },
    {
      "cell_type": "markdown",
      "metadata": {
        "id": "-CH_2TKsAIqu"
      },
      "source": [
        "# Summing a Boolean List\n",
        "\n",
        "The idea now is to create a list m where m[i] is True if dna[i] equals the letter we search for (base). The number of True values in m is then the number of base letters in dna. We can use the sum function to find this number because doing arithmetics with boolean lists automatically interprets True as 1 and False as 0. That is, sum(m) returns the number of True elements in m. A possible function doing this is"
      ]
    },
    {
      "cell_type": "code",
      "metadata": {
        "id": "AArH-oSOAHKL",
        "outputId": "ef160e3a-c221-4bfc-ed7d-975dfd3b8242",
        "colab": {
          "base_uri": "https://localhost:8080/"
        }
      },
      "source": [
        "def find_occurrence_bl(dna,base):\n",
        "   m=[]\n",
        "   for char in dna:\n",
        "       if char == base:\n",
        "            m.append(True)\n",
        "       else:\n",
        "            m.append(False)\n",
        "   return m\n",
        "\n",
        "\n",
        "dna='ACCGCAATA'\n",
        "base='A'\n",
        "m_list = find_occurrence_bl(dna,base)\n",
        "print(m_list)\n",
        "print(sum(m_list))  # number of occurrences of base in dna\n"
      ],
      "execution_count": 34,
      "outputs": [
        {
          "output_type": "stream",
          "text": [
            "[True, False, False, False, False, True, True, False, True]\n",
            "4\n"
          ],
          "name": "stdout"
        }
      ]
    },
    {
      "cell_type": "markdown",
      "metadata": {
        "id": "1b5CKQkpBvth"
      },
      "source": [
        "# Inline If Test\n",
        "Shorter, more compact code is often a goal if the compactness enhances readability. The four-line if test in the previous function can be condensed to one line using the inline if construction: if condition value1 else value2."
      ]
    },
    {
      "cell_type": "code",
      "metadata": {
        "id": "kThiqqqqByZ3",
        "outputId": "6688952c-6517-4785-e869-95960183bb56",
        "colab": {
          "base_uri": "https://localhost:8080/"
        }
      },
      "source": [
        "def find_occurrence_bl(dna,base):\n",
        "   m=[]\n",
        "   for char in dna:\n",
        "       m.append( True if char== base else False) # inline code\n",
        "   return m\n",
        "\n",
        "dna='ACCGCAGATA'\n",
        "base='G'\n",
        "m_list = find_occurrence_bl(dna,base)\n",
        "print(m_list)\n",
        "print(sum(m_list))"
      ],
      "execution_count": 38,
      "outputs": [
        {
          "output_type": "stream",
          "text": [
            "[False, False, False, True, False, False, True, False, False, False]\n",
            "2\n"
          ],
          "name": "stdout"
        }
      ]
    }
  ]
}
