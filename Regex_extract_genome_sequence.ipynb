{
  "nbformat": 4,
  "nbformat_minor": 0,
  "metadata": {
    "colab": {
      "name": "Regex_extract_genome_sequence.ipynb",
      "provenance": [],
      "collapsed_sections": [],
      "toc_visible": true,
      "mount_file_id": "1HTVMuTO8GUj_hZe4oLP0TN8oNyQV24OL",
      "authorship_tag": "ABX9TyMoUnD2S3vBOlITdNjDdqpi",
      "include_colab_link": true
    },
    "kernelspec": {
      "name": "python3",
      "display_name": "Python 3"
    }
  },
  "cells": [
    {
      "cell_type": "markdown",
      "metadata": {
        "id": "view-in-github",
        "colab_type": "text"
      },
      "source": [
        "<a href=\"https://colab.research.google.com/github/mariyagolchin/Python-and-Bioinformatics/blob/main/Regex_extract_genome_sequence.ipynb\" target=\"_parent\"><img src=\"https://colab.research.google.com/assets/colab-badge.svg\" alt=\"Open In Colab\"/></a>"
      ]
    },
    {
      "cell_type": "markdown",
      "metadata": {
        "id": "w_MPxRkMNFWA"
      },
      "source": [
        "I’m trying to use a **Python Regular Expression** to **extract a genome sequence** from a genome database."
      ]
    },
    {
      "cell_type": "markdown",
      "metadata": {
        "id": "VtiJlkxXYM2f"
      },
      "source": [
        "# re.search\n",
        "\n",
        "The search() function searches the string for a match, and returns a Match object if there is a match.\n",
        "\n",
        "If there is more than one match, only the first occurrence of the match will be returned"
      ]
    },
    {
      "cell_type": "code",
      "metadata": {
        "id": "Kg9LmGi4WCb3",
        "outputId": "dd2fee30-d0c9-44c5-9e27-3a6af4a08a42",
        "colab": {
          "base_uri": "https://localhost:8080/"
        }
      },
      "source": [
        "\n",
        "# Finding a pattern in dna\n",
        "\n",
        "import re\n",
        "DNA = 'AGCGAGAAACGCTAGCAGCCAAA'\n",
        "\n",
        "match = re.search(pattern='AGC', string=DNA)\n",
        "# match = re.search('AAA', 'DNA')\n",
        "\n",
        "print(match)"
      ],
      "execution_count": null,
      "outputs": [
        {
          "output_type": "stream",
          "text": [
            "<_sre.SRE_Match object; span=(0, 3), match='AGC'>\n"
          ],
          "name": "stdout"
        }
      ]
    },
    {
      "cell_type": "code",
      "metadata": {
        "id": "Z1iWPqeYX6Ns",
        "outputId": "1bc99639-31d5-4e1d-c22f-c26860327a06",
        "colab": {
          "base_uri": "https://localhost:8080/"
        }
      },
      "source": [
        "import re\n",
        "\n",
        "DNA = 'GAGCGCTAGCCAAA'\n",
        "\n",
        "if re.search('AAA', DNA):\n",
        "    print(\"Tri-nucleotide found!\")"
      ],
      "execution_count": null,
      "outputs": [
        {
          "output_type": "stream",
          "text": [
            "Tri-nucleotide found!\n"
          ],
          "name": "stdout"
        }
      ]
    },
    {
      "cell_type": "markdown",
      "metadata": {
        "id": "Am4y0zoxBbNq"
      },
      "source": [
        "# match\n",
        "finding which part of string has match and extract match with it"
      ]
    },
    {
      "cell_type": "code",
      "metadata": {
        "id": "UaqPWHT3AjEL",
        "outputId": "13808d64-d94c-4424-8fbf-9e2f3c14e12f",
        "colab": {
          "base_uri": "https://localhost:8080/"
        }
      },
      "source": [
        "import re\n",
        "\n",
        "DNA = 'GAGCGCTAGCCAAA'\n",
        "\n",
        "match = re.search('AAA', DNA)\n",
        " \n",
        "print(match.start())\n",
        "#11\n",
        "\n",
        "print(match.end())\n",
        "#14\n",
        "\n",
        "print(match.span())\n",
        "# (11,14)\n",
        "\n",
        "print(match.group())"
      ],
      "execution_count": 1,
      "outputs": [
        {
          "output_type": "stream",
          "text": [
            "11\n",
            "14\n",
            "(11, 14)\n",
            "AAA\n"
          ],
          "name": "stdout"
        }
      ]
    },
    {
      "cell_type": "code",
      "metadata": {
        "id": "7UYfA499CeMa",
        "outputId": "b7495996-11c6-4081-9b74-3839d7b499df",
        "colab": {
          "base_uri": "https://localhost:8080/"
        }
      },
      "source": [
        "# using alternation ==> | ===> G|C\n",
        "\n",
        "DNA = 'ATCGACCGGGTTT'\n",
        "\n",
        "if re.search('CCGGG', DNA) or re.search('CCCGG', DNA):\n",
        "\n",
        "    print('Restriction enzyme found!')\n",
        " \n",
        "\n",
        "if re.search('CC(G|C)GG', DNA):\n",
        "\n",
        "    print('Restriction enzyme found!')"
      ],
      "execution_count": 4,
      "outputs": [
        {
          "output_type": "stream",
          "text": [
            "Restriction enzyme found!\n",
            "Restriction enzyme found!\n"
          ],
          "name": "stdout"
        }
      ]
    },
    {
      "cell_type": "code",
      "metadata": {
        "id": "kO9JCyVDIYm-",
        "outputId": "92c41e33-cee7-47ce-a1fa-34eff0f9eab2",
        "colab": {
          "base_uri": "https://localhost:8080/"
        }
      },
      "source": [
        "# https://www.ncbi.nlm.nih.gov/nuccore\n",
        "# go fo file and select Clipboard to create cope link and paste here\n",
        "\n",
        "!wget http://d28rh4a8wq0iu5.cloudfront.net/ads1/data/SRR835775_1.first1000.fastq"
      ],
      "execution_count": 6,
      "outputs": [
        {
          "output_type": "stream",
          "text": [
            "--2020-11-03 12:42:53--  http://d28rh4a8wq0iu5.cloudfront.net/ads1/data/SRR835775_1.first1000.fastq\n",
            "Resolving d28rh4a8wq0iu5.cloudfront.net (d28rh4a8wq0iu5.cloudfront.net)... 13.225.100.4, 13.225.100.155, 13.225.100.75, ...\n",
            "Connecting to d28rh4a8wq0iu5.cloudfront.net (d28rh4a8wq0iu5.cloudfront.net)|13.225.100.4|:80... connected.\n",
            "HTTP request sent, awaiting response... 200 OK\n",
            "Length: 224786 (220K) [application/octet-stream]\n",
            "Saving to: ‘SRR835775_1.first1000.fastq’\n",
            "\n",
            "SRR835775_1.first10 100%[===================>] 219.52K  --.-KB/s    in 0.04s   \n",
            "\n",
            "2020-11-03 12:42:55 (5.45 MB/s) - ‘SRR835775_1.first1000.fastq’ saved [224786/224786]\n",
            "\n"
          ],
          "name": "stdout"
        }
      ]
    },
    {
      "cell_type": "code",
      "metadata": {
        "id": "EnBan0iUIpjV",
        "outputId": "b6db3ada-45c2-484c-bf5b-b5dfc35fe36a",
        "colab": {
          "base_uri": "https://localhost:8080/"
        }
      },
      "source": [
        "def readFastq(filename):\n",
        "    sequences = []\n",
        "    qualities = []\n",
        "    with open(filename) as fh:\n",
        "        while True:\n",
        "            fh.readline() # skip name line\n",
        "            seq = fh.readline().rstrip() # read base sequence\n",
        "            fh.readline() # skip placeholder line\n",
        "            qual = fh.readline().rstrip() #base quality line\n",
        "            if len(seq) == 0:\n",
        "                break\n",
        "            sequences.append(seq)\n",
        "            qualities.append(qual)\n",
        "    return sequences, qualities\n",
        "    \n",
        "seqs, quals = readFastq('SRR835775_1.first1000.fastq')\n",
        "print(seqs[:5])\n",
        "print( quals[:5])"
      ],
      "execution_count": 7,
      "outputs": [
        {
          "output_type": "stream",
          "text": [
            "['TAACCCTAACCCTAACCCTAACCCTAACCCTAACCCTAACCCTAACCCTAACCCTCACCCTAACCCTAACCCTAACCGTATCCGTCACCCTAACCCTAAC', 'TAACCCTAACCCTAACCCTAACCCTAACCCTAACCCTAACCCTAACCCTAACCCTACCCTAACCCTAACCCTAACCCTAACCCTAACCCTAACCCTAACC', 'TAGGGTTAGGGTTAGGGTTAGGGTTAGGGTTAGGGTTAGGGTTAGGGTTAGGGTTAGGGTTAGGGTTAGGGTTAGGGTTAGGGTTAGGGTTAGGGTTAGG', 'TAGGGTTAGGGTTAGGGTTAGGGTTAGGGTTAGGGTTAGGGTTAGGGTTAGGGTTAGGGTTAGGGTTAAGGGTTGGGGGTTAGGGGTAGGGGTAGGGTTA', 'CTAACCCTAACCCTAACCCTAACCCTACCCTAACCCTAACCCTAACCCTAACCCTAACCCTAACCCTAACCCTAACCCAACCCTAACCCTAACCCTCACC']\n",
            "['???B1ADDD8??BB+C?B+:AA883CEE8?C3@DDD3)?D2;DC?8?=BAD=@C@(.6.6=A?=?@##################################', 'CCCFFFFFGHHGHJJJJJIJGIIJJJJJJJIJIJJJJJFJJFGIIIIH=CBFCF=CCEG)=>EHB2@@DEC>;;?=;(=?BBD?59?BA###########', '@@<DD?DDHHH<CBHII:CFGIGAGHIIG?CCGGE0BDHIIHIGICH8=FHGI=@EHGGGEEHH>);?CC@.;(=;?59,5<A599?CB>ABBCB><88A', '@CCFFDDFHHHDFHIJJCGGIJJHIIHJC?DHHIJ0?DGHI9BBFHICGGIGI=CDEGI=?AAEF7@?################################', '@<@FDFDDBBFHH@EBGGGEH@FFHE;EHIEGGBHG?)9?8BDGGBGGBCDGI=93=C6==C;CCD(?@>@#############################']\n"
          ],
          "name": "stdout"
        }
      ]
    },
    {
      "cell_type": "code",
      "metadata": {
        "id": "TlOGBs8EI0u1",
        "outputId": "1cd161ac-61bc-4b16-c7ee-294222a15c48",
        "colab": {
          "base_uri": "https://localhost:8080/"
        }
      },
      "source": [
        "import re\n",
        "print(seqs[0])\n",
        "\n",
        "match = re.search('TAA', seqs[0])\n",
        "\n",
        "print('match=>', match)\n",
        "print(match.start())\n",
        "\n",
        "print(match.end())\n",
        "\n",
        "print(match.span())\n",
        "\n",
        "print(match.group())\n"
      ],
      "execution_count": 16,
      "outputs": [
        {
          "output_type": "stream",
          "text": [
            "TAACCCTAACCCTAACCCTAACCCTAACCCTAACCCTAACCCTAACCCTAACCCTCACCCTAACCCTAACCCTAACCGTATCCGTCACCCTAACCCTAAC\n",
            "match=> <_sre.SRE_Match object; span=(0, 3), match='TAA'>\n",
            "0\n",
            "3\n",
            "(0, 3)\n",
            "TAA\n"
          ],
          "name": "stdout"
        }
      ]
    },
    {
      "cell_type": "code",
      "metadata": {
        "id": "0FSMOW-7J2xh",
        "outputId": "07f81f72-d9c5-4c6a-da3e-ba5588aa45b4",
        "colab": {
          "base_uri": "https://localhost:8080/"
        }
      },
      "source": [
        "print(seqs[0])\n",
        "match = re.findall(pattern='TA', string=seqs[0])\n",
        "print('match=>',match)\n",
        "match_s = re.search(pattern='TA', string=seqs[0])\n",
        "print('match_s=>',match_s)\n",
        "print(match_s.start())\n",
        "\n",
        "print(match_s.end())\n",
        "\n",
        "print(match_s.span())\n",
        "\n",
        "print(match_s.group())"
      ],
      "execution_count": 24,
      "outputs": [
        {
          "output_type": "stream",
          "text": [
            "TAACCCTAACCCTAACCCTAACCCTAACCCTAACCCTAACCCTAACCCTAACCCTCACCCTAACCCTAACCCTAACCGTATCCGTCACCCTAACCCTAAC\n",
            "match=> ['TA', 'TA', 'TA', 'TA', 'TA', 'TA', 'TA', 'TA', 'TA', 'TA', 'TA', 'TA', 'TA', 'TA', 'TA']\n",
            "match_s=> <_sre.SRE_Match object; span=(0, 2), match='TA'>\n",
            "0\n",
            "2\n",
            "(0, 2)\n",
            "TA\n"
          ],
          "name": "stdout"
        }
      ]
    }
  ]
}