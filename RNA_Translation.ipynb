{
  "nbformat": 4,
  "nbformat_minor": 0,
  "metadata": {
    "colab": {
      "name": "Transcription.ipynb",
      "provenance": [],
      "authorship_tag": "ABX9TyOwdWek2q/bXuNxWMIVvNe5",
      "include_colab_link": true
    },
    "kernelspec": {
      "name": "python3",
      "display_name": "Python 3"
    }
  },
  "cells": [
    {
      "cell_type": "markdown",
      "metadata": {
        "id": "view-in-github",
        "colab_type": "text"
      },
      "source": [
        "<a href=\"https://colab.research.google.com/github/mariyagolchin/Python-and-Bioinformatics/blob/main/Transcription.ipynb\" target=\"_parent\"><img src=\"https://colab.research.google.com/assets/colab-badge.svg\" alt=\"Open In Colab\"/></a>"
      ]
    },
    {
      "cell_type": "markdown",
      "metadata": {
        "id": "827-zO2cU3Ix"
      },
      "source": [
        "# DNA to RNA Transcription \n",
        "\n",
        "\n",
        "Both DNA and RNA strands are a sequence of nucleotides.\n",
        "\n",
        "The four nucleotides found in DNA are adenine (A), cytosine (C), guanine (G) and thymine (T).\n",
        "\n",
        "The four nucleotides found in RNA are adenine (A), cytosine (C), guanine (G) and uracil (U).\n",
        "\n",
        "Given a DNA strand, its transcribed RNA strand is formed by replacing each nucleotide with its complement.\n",
        "\n",
        "The transcription should be as follows:\n",
        "\n",
        "G --> C\n",
        "\n",
        "C --> G\n",
        "\n",
        "T --> A\n",
        "\n",
        "A --> U\n"
      ]
    },
    {
      "cell_type": "code",
      "metadata": {
        "colab": {
          "base_uri": "https://localhost:8080/"
        },
        "id": "u7zJBLNdIU_D",
        "outputId": "e7ee1aa8-f002-4a8d-995c-637f971a72ab"
      },
      "source": [
        "# dna = \"ACGTXXXCTTAA\"\n",
        "dna = \"ACGTCTTAA\"\n",
        "new = \"\"\n",
        "\n",
        "for i in dna:\n",
        "    if i not in 'ATGC':\n",
        "        new = \"Invalid Input\"\n",
        "        break\n",
        "    if i == 'A':\n",
        "        new += 'U'\n",
        "    elif i == 'C':\n",
        "        new += 'G'\n",
        "    elif i == 'T':\n",
        "        new += 'A'\n",
        "    else:\n",
        "        new += 'C'\n",
        "\n",
        "print(new)"
      ],
      "execution_count": 3,
      "outputs": [
        {
          "output_type": "stream",
          "text": [
            "UGCAGAAUU\n"
          ],
          "name": "stdout"
        }
      ]
    },
    {
      "cell_type": "code",
      "metadata": {
        "id": "lYoW7svCWQJN"
      },
      "source": [
        "try:\n",
        "    maketrans = ''.maketrans\n",
        "except AttributeError:\n",
        "    # fallback for Python 2\n",
        "    from string import maketrans"
      ],
      "execution_count": 8,
      "outputs": []
    },
    {
      "cell_type": "code",
      "metadata": {
        "colab": {
          "base_uri": "https://localhost:8080/"
        },
        "id": "vt6rkc17Vziw",
        "outputId": "81bdf1d9-44f8-4164-eaa3-bb633ca788cf"
      },
      "source": [
        "# define a function \n",
        "# for transcription \n",
        "def transcript(x) : \n",
        "    \n",
        "  # convert string into list \n",
        "  l = list(x)   \n",
        "  \n",
        "  for i in range(len(x)): \n",
        "  \n",
        "      if(l[i]=='G'): \n",
        "          l[i]='C'\n",
        "  \n",
        "      elif(l[i]=='C'): \n",
        "          l[i]='G'\n",
        "  \n",
        "      elif (l[i] == 'T'): \n",
        "          l[i] = 'A'\n",
        "  \n",
        "      elif (l[i] == 'A'): \n",
        "          l[i] = 'U'\n",
        "  \n",
        "      else: \n",
        "          print('Invalid Input')                       \n",
        "            \n",
        "  print(\"Translated DNA=> \",end=\"\")       \n",
        "  for char in l: \n",
        "      print(char,end=\"\") \n",
        "  \n",
        "\n",
        "\n",
        "# Driver code \n",
        "if __name__ == \"__main__\": \n",
        "    \n",
        "  dna = \"GCTAA\"\n",
        "  # function calling \n",
        "  transcript(dna) "
      ],
      "execution_count": 12,
      "outputs": [
        {
          "output_type": "stream",
          "text": [
            "Translated DNA : CGAUU"
          ],
          "name": "stdout"
        }
      ]
    }
  ]
}
