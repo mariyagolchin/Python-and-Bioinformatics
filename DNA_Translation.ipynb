{
  "nbformat": 4,
  "nbformat_minor": 0,
  "metadata": {
    "colab": {
      "name": "ConvertDNAtoProtein.ipynb",
      "provenance": [],
      "toc_visible": true,
      "authorship_tag": "ABX9TyMDngBITT1SRWIvSqPoCf6z",
      "include_colab_link": true
    },
    "kernelspec": {
      "name": "python3",
      "display_name": "Python 3"
    }
  },
  "cells": [
    {
      "cell_type": "markdown",
      "metadata": {
        "id": "view-in-github",
        "colab_type": "text"
      },
      "source": [
        "<a href=\"https://colab.research.google.com/github/mariyagolchin/Python-and-Bioinformatics/blob/main/ConvertDNAtoProtein.ipynb\" target=\"_parent\"><img src=\"https://colab.research.google.com/assets/colab-badge.svg\" alt=\"Open In Colab\"/></a>"
      ]
    },
    {
      "cell_type": "markdown",
      "metadata": {
        "id": "NSQpmgCaUutU"
      },
      "source": [
        "# DNA to Protein in Python 3\n",
        "\n",
        "***Translation Theory : DNA ⇒ RNA ⇒ Protein***\n",
        "\n",
        "Instructions in the DNA are first transcribed into RNA and the RNA is then translated into proteins. We can think of DNA, when read as sequences of three letters, as a dictionary of life.\n",
        "\n",
        "\n",
        "I have to write a program that I can copy and paste DNA sequences into and get an entire amino acid sequence from.\n",
        "\n",
        "A **nucleotide** is a single piece of a **DNA strand (Either A, G, T, or C)**.\n",
        "\n",
        "An **Amino Acid **is similar, but for **proteins**.\n",
        "\n",
        "A **codon** is a group of **three nucleotides** that **translates into an amino acid.**\n",
        "\n",
        "**Transcription** is **how an enzyme reads the DNA or RNA sequence** and **makes it into an amino acid chain** based on the codons.\n",
        "\n",
        "Some codons \"Start\" the transcription process. Some \"Stop\" the transcription process until it finds another \"Start\" codon so it can start all over with a different group of nucleotides on the same DNA strand.\n",
        "\n",
        "\n"
      ]
    },
    {
      "cell_type": "code",
      "metadata": {
        "id": "54OQ5QdeYUCI",
        "outputId": "27a52fff-f750-4fd6-f9bc-3884e1a5ef58",
        "colab": {
          "base_uri": "https://localhost:8080/"
        }
      },
      "source": [
        "# how to download a file github wget:\n",
        "# Click the file name in a GitHub repo.\n",
        "# Click Raw to display the file contents.\n",
        "# Copy the URL in your browser.\n",
        "\n",
        "! wget https://raw.githubusercontent.com/s-ai-kia/Data-Analysis/master/data-analysis%20project%20-%203%20-%20DNA_Translation/DNA_sequence_original.txt"
      ],
      "execution_count": 1,
      "outputs": [
        {
          "output_type": "stream",
          "text": [
            "--2020-11-04 13:11:26--  https://raw.githubusercontent.com/s-ai-kia/Data-Analysis/master/data-analysis%20project%20-%203%20-%20DNA_Translation/DNA_sequence_original.txt\n",
            "Resolving raw.githubusercontent.com (raw.githubusercontent.com)... 151.101.0.133, 151.101.64.133, 151.101.128.133, ...\n",
            "Connecting to raw.githubusercontent.com (raw.githubusercontent.com)|151.101.0.133|:443... connected.\n",
            "HTTP request sent, awaiting response... 200 OK\n",
            "Length: 1189 (1.2K) [text/plain]\n",
            "Saving to: ‘DNA_sequence_original.txt’\n",
            "\n",
            "DNA_sequence_origin 100%[===================>]   1.16K  --.-KB/s    in 0s      \n",
            "\n",
            "2020-11-04 13:11:26 (59.2 MB/s) - ‘DNA_sequence_original.txt’ saved [1189/1189]\n",
            "\n"
          ],
          "name": "stdout"
        }
      ]
    },
    {
      "cell_type": "code",
      "metadata": {
        "id": "6fe76LW3YrUS",
        "outputId": "33034bd9-2045-43fa-c0ba-c0e4ac17586b",
        "colab": {
          "base_uri": "https://localhost:8080/"
        }
      },
      "source": [
        "inputfile =\"/content/DNA_sequence_original.txt\"\n",
        "f = open(inputfile, \"r\") \n",
        "seq = f.read() \n",
        "print(seq)\n",
        "   \n",
        "seq = seq.replace(\"\\n\", \"\")  \n",
        "seq = seq.replace(\"\\r\", \"\") \n",
        "print(\"\\n\")\n",
        "print(\"len-seq==>\",len(seq))"
      ],
      "execution_count": 7,
      "outputs": [
        {
          "output_type": "stream",
          "text": [
            "GGTCAGAAAAAGCCCTCTCCATGTCTACTCACGATACATCCCTGAAAACCACTGAGGAAGTGGCTTTTCA\n",
            "GATCATCTTGCTTTGCCAGTTTGGGGTTGGGACTTTTGCCAATGTATTTCTCTTTGTCTATAATTTCTCT\n",
            "CCAATCTCGACTGGTTCTAAACAGAGGCCCAGACAAGTGATTTTAAGACACATGGCTGTGGCCAATGCCT\n",
            "TAACTCTCTTCCTCACTATATTTCCAAACAACATGATGACTTTTGCTCCAATTATTCCTCAAACTGACCT\n",
            "CAAATGTAAATTAGAATTCTTCACTCGCCTCGTGGCAAGAAGCACAAACTTGTGTTCAACTTGTGTTCTG\n",
            "AGTATCCATCAGTTTGTCACACTTGTTCCTGTTAATTCAGGTAAAGGAATACTCAGAGCAAGTGTCACAA\n",
            "ACATGGCAAGTTATTCTTGTTACAGTTGTTGGTTCTTCAGTGTCTTAAATAACATCTACATTCCAATTAA\n",
            "GGTCACTGGTCCACAGTTAACAGACAATAACAATAACTCTAAAAGCAAGTTGTTCTGTTCCACTTCTGAT\n",
            "TTCAGTGTAGGCATTGTCTTCTTGAGGTTTGCCCATGATGCCACATTCATGAGCATCATGGTCTGGACCA\n",
            "GTGTCTCCATGGTACTTCTCCTCCATAGACATTGTCAGAGAATGCAGTACATATTCACTCTCAATCAGGA\n",
            "CCCCAGGGGCCAAGCAGAGACCACAGCAACCCATACTATCCTGATGCTGGTAGTCACATTTGTTGGCTTT\n",
            "TATCTTCTAAGTCTTATTTGTATCATCTTTTACACCTATTTTATATATTCTCATCATTCCCTGAGGCATT\n",
            "GCAATGACATTTTGGTTTCGGGTTTCCCTACAATTTCTCCTTTACTGTTGACCTTCAGAGACCCTAAGGG\n",
            "TCCTTGTTCTGTGTTCTTCAACTGTTGAAAGCCAGAGTCACTAAAAATGCCAAACACAGAAGACAGCTTT\n",
            "GCTAATACCATTAAATACTTTATTCCATAAATATGTTTTTAAAAGCTTGTATGAACAAGGTATGGTGCTC\n",
            "ACTGCTATACTTATAAAAGAGTAAGGTTATAATCACTTGTTGATATGAAAAGATTTCTGGTTGGAATCTG\n",
            "ATTGAAACAGTGAGTTATTCACCACCCTCCATTCTCT\n",
            "\n",
            "\n",
            "len-seq==> 1157\n"
          ],
          "name": "stdout"
        }
      ]
    },
    {
      "cell_type": "markdown",
      "metadata": {
        "id": "-mTXDdY2Y_7R"
      },
      "source": [
        " ------------------translate() ---------------------------------------------\n",
        "\n",
        "Next, we will build a ***function called translate() ***which will ***convert the altered DNA sequence into its Protein ***equivalent and return it. We will feed the altered DNA sequence as a parameter to the function."
      ]
    },
    {
      "cell_type": "code",
      "metadata": {
        "id": "LabzlnG_Ut5s"
      },
      "source": [
        "def translate(seq): \n",
        "\ttable = { \n",
        "\t\t'ATA':'I', 'ATC':'I', 'ATT':'I', 'ATG':'M', \n",
        "\t\t'ACA':'T', 'ACC':'T', 'ACG':'T', 'ACT':'T', \n",
        "\t\t'AAC':'N', 'AAT':'N', 'AAA':'K', 'AAG':'K', \n",
        "\t\t'AGC':'S', 'AGT':'S', 'AGA':'R', 'AGG':'R',\t\t\t\t \n",
        "\t\t'CTA':'L', 'CTC':'L', 'CTG':'L', 'CTT':'L', \n",
        "\t\t'CCA':'P', 'CCC':'P', 'CCG':'P', 'CCT':'P', \n",
        "\t\t'CAC':'H', 'CAT':'H', 'CAA':'Q', 'CAG':'Q', \n",
        "\t\t'CGA':'R', 'CGC':'R', 'CGG':'R', 'CGT':'R', \n",
        "\t\t'GTA':'V', 'GTC':'V', 'GTG':'V', 'GTT':'V', \n",
        "\t\t'GCA':'A', 'GCC':'A', 'GCG':'A', 'GCT':'A', \n",
        "\t\t'GAC':'D', 'GAT':'D', 'GAA':'E', 'GAG':'E', \n",
        "\t\t'GGA':'G', 'GGC':'G', 'GGG':'G', 'GGT':'G', \n",
        "\t\t'TCA':'S', 'TCC':'S', 'TCG':'S', 'TCT':'S', \n",
        "\t\t'TTC':'F', 'TTT':'F', 'TTA':'L', 'TTG':'L', \n",
        "\t\t'TAC':'Y', 'TAT':'Y', 'TAA':'_', 'TAG':'_', \n",
        "\t\t'TGC':'C', 'TGT':'C', 'TGA':'_', 'TGG':'W', \n",
        "\t} \n",
        "\n",
        "\tprotein =\"\"\n",
        "\n",
        "\tif len(seq)%3 == 0: \n",
        "\t\tfor i in range(0, len(seq), 3): \n",
        "\t\t\tcodon = seq[i:i + 3] \n",
        "\t\t\tprotein+= table[codon] \n",
        "\treturn protein \n",
        "\n",
        "\n"
      ],
      "execution_count": 10,
      "outputs": []
    },
    {
      "cell_type": "code",
      "metadata": {
        "id": "mANxdJzMaLXO",
        "outputId": "f1ebce9c-3c3e-4f0e-ba22-cb4612cd5f9e",
        "colab": {
          "base_uri": "https://localhost:8080/"
        }
      },
      "source": [
        "protein = translate(seq[20:935])\n",
        "print(protein)"
      ],
      "execution_count": 16,
      "outputs": [
        {
          "output_type": "stream",
          "text": [
            "MSTHDTSLKTTEEVAFQIILLCQFGVGTFANVFLFVYNFSPISTGSKQRPRQVILRHMAVANALTLFLTIFPNNMMTFAPIIPQTDLKCKLEFFTRLVARSTNLCSTCVLSIHQFVTLVPVNSGKGILRASVTNMASYSCYSCWFFSVLNNIYIPIKVTGPQLTDNNNNSKSKLFCSTSDFSVGIVFLRFAHDATFMSIMVWTSVSMVLLLHRHCQRMQYIFTLNQDPRGQAETTATHTILMLVVTFVGFYLLSLICIIFYTYFIYSHHSLRHCNDILVSGFPTISPLLLTFRDPKGPCSVFFNC\n"
          ],
          "name": "stdout"
        }
      ]
    },
    {
      "cell_type": "code",
      "metadata": {
        "id": "AlG_Na6vby5e",
        "outputId": "3075a2db-beca-442c-ab16-7fc9c52b299c",
        "colab": {
          "base_uri": "https://localhost:8080/"
        }
      },
      "source": [
        "# get amino_acid_sequence_original.txt frm github\n",
        "\n",
        "!wget https://raw.githubusercontent.com/s-ai-kia/Data-Analysis/master/data-analysis%20project%20-%203%20-%20DNA_Translation/amino_acid_sequence_original.txt"
      ],
      "execution_count": 17,
      "outputs": [
        {
          "output_type": "stream",
          "text": [
            "--2020-11-04 13:27:14--  https://raw.githubusercontent.com/s-ai-kia/Data-Analysis/master/data-analysis%20project%20-%203%20-%20DNA_Translation/amino_acid_sequence_original.txt\n",
            "Resolving raw.githubusercontent.com (raw.githubusercontent.com)... 151.101.0.133, 151.101.64.133, 151.101.128.133, ...\n",
            "Connecting to raw.githubusercontent.com (raw.githubusercontent.com)|151.101.0.133|:443... connected.\n",
            "HTTP request sent, awaiting response... 200 OK\n",
            "Length: 315 [text/plain]\n",
            "Saving to: ‘amino_acid_sequence_original.txt’\n",
            "\n",
            "amino_acid_sequence 100%[===================>]     315  --.-KB/s    in 0s      \n",
            "\n",
            "2020-11-04 13:27:15 (17.4 MB/s) - ‘amino_acid_sequence_original.txt’ saved [315/315]\n",
            "\n"
          ],
          "name": "stdout"
        }
      ]
    },
    {
      "cell_type": "markdown",
      "metadata": {
        "id": "bpDa_SlwcEv6"
      },
      "source": [
        "First download the unaltered amino acid sequence txt file and open it in Python. We will build a function called read_seq() to remove the unwanted characters and form the altered amino acid’s sequence txt file.\n",
        "\n"
      ]
    },
    {
      "cell_type": "code",
      "metadata": {
        "id": "7tKoK0YKcu-b"
      },
      "source": [
        "def read_seq(inputfile): \n",
        "    with open(inputfile, \"r\") as f: \n",
        "        seq = f.read() \n",
        "    seq = seq.replace(\"\\n\", \"\") \n",
        "    seq = seq.replace(\"\\r\", \"\") \n",
        "    return seq "
      ],
      "execution_count": 20,
      "outputs": []
    },
    {
      "cell_type": "markdown",
      "metadata": {
        "id": "QlvvdsXdgg3L"
      },
      "source": [
        "The last step is to compare both the files and check if both are the same.If the output is true, we have succeeded in translating DNA to Protein."
      ]
    },
    {
      "cell_type": "code",
      "metadata": {
        "id": "YTRZP4NvcYQ1",
        "outputId": "b9bc297b-342b-4529-e4b9-f331abe35eeb",
        "colab": {
          "base_uri": "https://localhost:8080/"
        }
      },
      "source": [
        "dna = read_seq (\"/content/DNA_sequence_original.txt\") \n",
        "prt = read_seq (\"/content/amino_acid_sequence_original.txt\") \n",
        "  \n",
        "print(dna[0:20])\n",
        "p = translate(dna[20:935]) \n",
        "print(p)\n",
        "print(len(p))\n",
        "p == prt \n",
        "\n",
        "print(prt)\n",
        "print(len(prt))"
      ],
      "execution_count": 24,
      "outputs": [
        {
          "output_type": "stream",
          "text": [
            "GGTCAGAAAAAGCCCTCTCC\n",
            "MSTHDTSLKTTEEVAFQIILLCQFGVGTFANVFLFVYNFSPISTGSKQRPRQVILRHMAVANALTLFLTIFPNNMMTFAPIIPQTDLKCKLEFFTRLVARSTNLCSTCVLSIHQFVTLVPVNSGKGILRASVTNMASYSCYSCWFFSVLNNIYIPIKVTGPQLTDNNNNSKSKLFCSTSDFSVGIVFLRFAHDATFMSIMVWTSVSMVLLLHRHCQRMQYIFTLNQDPRGQAETTATHTILMLVVTFVGFYLLSLICIIFYTYFIYSHHSLRHCNDILVSGFPTISPLLLTFRDPKGPCSVFFNC\n",
            "305\n",
            "MSTHDTSLKTTEEVAFQIILLCQFGVGTFANVFLFVYNFSPISTGSKQRPRQVILRHMAVANALTLFLTIFPNNMMTFAPIIPQTDLKCKLEFFTRLVARSTNLCSTCVLSIHQFVTLVPVNSGKGILRASVTNMASYSCYSCWFFSVLNNIYIPIKVTGPQLTDNNNNSKSKLFCSTSDFSVGIVFLRFAHDATFMSIMVWTSVSMVLLLHRHCQRMQYIFTLNQDPRGQAETTATHTILMLVVTFVGFYLLSLICIIFYTYFIYSHHSLRHCNDILVSGFPTISPLLLTFRDPKGPCSVFFNC\n",
            "305\n"
          ],
          "name": "stdout"
        }
      ]
    }
  ]
}
